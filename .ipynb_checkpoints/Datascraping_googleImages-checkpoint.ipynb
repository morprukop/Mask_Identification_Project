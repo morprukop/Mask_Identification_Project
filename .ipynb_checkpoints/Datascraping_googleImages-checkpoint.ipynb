{
 "cells": [
  {
   "cell_type": "code",
   "execution_count": 8,
   "id": "d9831efd",
   "metadata": {},
   "outputs": [
    {
     "name": "stdout",
     "output_type": "stream",
     "text": [
      "Collecting simple_image_download\n",
      "  Downloading simple_image_download-0.4-py3-none-any.whl (4.9 kB)\n",
      "Requirement already satisfied: requests in c:\\users\\morga\\anaconda3\\lib\\site-packages (from simple_image_download) (2.25.1)\n",
      "Collecting python-magic-bin==0.4.14\n",
      "  Downloading python_magic_bin-0.4.14-py2.py3-none-win_amd64.whl (409 kB)\n",
      "Collecting progressbar\n",
      "  Downloading progressbar-2.5.tar.gz (10 kB)\n",
      "Requirement already satisfied: idna<3,>=2.5 in c:\\users\\morga\\anaconda3\\lib\\site-packages (from requests->simple_image_download) (2.10)\n",
      "Requirement already satisfied: chardet<5,>=3.0.2 in c:\\users\\morga\\anaconda3\\lib\\site-packages (from requests->simple_image_download) (4.0.0)\n",
      "Requirement already satisfied: certifi>=2017.4.17 in c:\\users\\morga\\anaconda3\\lib\\site-packages (from requests->simple_image_download) (2020.12.5)\n",
      "Requirement already satisfied: urllib3<1.27,>=1.21.1 in c:\\users\\morga\\anaconda3\\lib\\site-packages (from requests->simple_image_download) (1.26.4)\n",
      "Building wheels for collected packages: progressbar\n",
      "  Building wheel for progressbar (setup.py): started\n",
      "  Building wheel for progressbar (setup.py): finished with status 'done'\n",
      "  Created wheel for progressbar: filename=progressbar-2.5-py3-none-any.whl size=12075 sha256=cb714dc3795e0e920bcba86130d18aca3568b9b4c1ad56f654b18ebd61eadd90\n",
      "  Stored in directory: c:\\users\\morga\\appdata\\local\\pip\\cache\\wheels\\2c\\67\\ed\\d84123843c937d7e7f5ba88a270d11036473144143355e2747\n",
      "Successfully built progressbar\n",
      "Installing collected packages: python-magic-bin, progressbar, simple-image-download\n",
      "Successfully installed progressbar-2.5 python-magic-bin-0.4.14 simple-image-download-0.4\n",
      "Note: you may need to restart the kernel to use updated packages.\n"
     ]
    }
   ],
   "source": [
    "pip install simple_image_download "
   ]
  },
  {
   "cell_type": "code",
   "execution_count": 9,
   "id": "d9373584",
   "metadata": {},
   "outputs": [],
   "source": [
    "from simple_image_download import simple_image_download as simp"
   ]
  },
  {
   "cell_type": "code",
   "execution_count": 4,
   "id": "90c690c3",
   "metadata": {},
   "outputs": [],
   "source": [
    " mask_words = [\"People in facemasks\", \"Facemasks\", \"covid facemask\",\"surgical masks\",\"face covering mask\",\"women with face mask\",\"kids in face mask\", \"facial mask covid\", \"youth in face mask\",\"Cotton Breathable Face Masks\"]"
   ]
  },
  {
   "cell_type": "code",
   "execution_count": 5,
   "id": "c0c6ca53",
   "metadata": {},
   "outputs": [],
   "source": [
    "no_mask_words = [\"People\",\"Faces of Man\", \"Faces of Women\", \"kid\"]"
   ]
  },
  {
   "cell_type": "code",
   "execution_count": 16,
   "id": "f5feb66d",
   "metadata": {},
   "outputs": [
    {
     "name": "stderr",
     "output_type": "stream",
     "text": [
      "[========================================================================] 100%\n"
     ]
    }
   ],
   "source": [
    "response = simp.simple_image_download\n",
    "\n",
    "# grab images for masks\n",
    "for mWord in mask_words: \n",
    "    paths = response().download(mWord, 25)\n",
    "    \n",
    "    sys.stdout = orig_stdout\n",
    "    f.close()"
   ]
  },
  {
   "cell_type": "code",
   "execution_count": null,
   "id": "fc5a696d",
   "metadata": {},
   "outputs": [
    {
     "name": "stderr",
     "output_type": "stream",
     "text": [
      "[========================================================================] 100%\n",
      "[========================================================================] 100%\n",
      "[===================================================                     ]  72%\r"
     ]
    }
   ],
   "source": [
    "#grab images for no masks\n",
    "for word in no_mask_words:\n",
    "    paths = response().download(word, 25)\n",
    "    sys.stdout = orig_stdout\n",
    "    f.close()"
   ]
  },
  {
   "cell_type": "code",
   "execution_count": null,
   "id": "f9724b22",
   "metadata": {},
   "outputs": [],
   "source": []
  }
 ],
 "metadata": {
  "kernelspec": {
   "display_name": "Python 3",
   "language": "python",
   "name": "python3"
  },
  "language_info": {
   "codemirror_mode": {
    "name": "ipython",
    "version": 3
   },
   "file_extension": ".py",
   "mimetype": "text/x-python",
   "name": "python",
   "nbconvert_exporter": "python",
   "pygments_lexer": "ipython3",
   "version": "3.8.8"
  }
 },
 "nbformat": 4,
 "nbformat_minor": 5
}
