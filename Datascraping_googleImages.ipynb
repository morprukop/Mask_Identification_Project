{
 "cells": [
  {
   "cell_type": "code",
   "execution_count": 1,
   "id": "d9831efd",
   "metadata": {},
   "outputs": [
    {
     "name": "stdout",
     "output_type": "stream",
     "text": [
      "Requirement already satisfied: simple_image_download in c:\\users\\morga\\anaconda3\\lib\\site-packages (0.4)\n",
      "Requirement already satisfied: python-magic-bin==0.4.14 in c:\\users\\morga\\anaconda3\\lib\\site-packages (from simple_image_download) (0.4.14)\n",
      "Requirement already satisfied: requests in c:\\users\\morga\\anaconda3\\lib\\site-packages (from simple_image_download) (2.25.1)\n",
      "Requirement already satisfied: progressbar in c:\\users\\morga\\anaconda3\\lib\\site-packages (from simple_image_download) (2.5)\n",
      "Requirement already satisfied: chardet<5,>=3.0.2 in c:\\users\\morga\\anaconda3\\lib\\site-packages (from requests->simple_image_download) (4.0.0)\n",
      "Requirement already satisfied: idna<3,>=2.5 in c:\\users\\morga\\anaconda3\\lib\\site-packages (from requests->simple_image_download) (2.10)\n",
      "Requirement already satisfied: certifi>=2017.4.17 in c:\\users\\morga\\anaconda3\\lib\\site-packages (from requests->simple_image_download) (2020.12.5)\n",
      "Requirement already satisfied: urllib3<1.27,>=1.21.1 in c:\\users\\morga\\anaconda3\\lib\\site-packages (from requests->simple_image_download) (1.26.4)\n",
      "Note: you may need to restart the kernel to use updated packages.\n"
     ]
    }
   ],
   "source": [
    "pip install simple_image_download "
   ]
  },
  {
   "cell_type": "code",
   "execution_count": 2,
   "id": "d9373584",
   "metadata": {},
   "outputs": [],
   "source": [
    "from simple_image_download import simple_image_download as simp"
   ]
  },
  {
   "cell_type": "code",
   "execution_count": 3,
   "id": "90c690c3",
   "metadata": {},
   "outputs": [
    {
     "name": "stdout",
     "output_type": "stream",
     "text": [
      "People in facemasks\n",
      "Facemasks\n",
      "covid facemask\n",
      "surgical masks\n",
      "face covering mask\n",
      "women with face mask\n",
      "kids in face mask\n",
      "facial mask covid\n",
      "youth in face mask\n",
      "Cotton Breathable Face Masks\n"
     ]
    }
   ],
   "source": [
    "mask_words = [\"People in facemasks\", \"Facemasks\", \"covid facemask\",\"surgical masks\",\"face covering mask\",\"women with face mask\",\"kids in face mask\", \"facial mask covid\", \"youth in face mask\",\"Cotton Breathable Face Masks\"]\n",
    "for word in mask_words:\n",
    "    print(word)"
   ]
  },
  {
   "cell_type": "code",
   "execution_count": 4,
   "id": "c0c6ca53",
   "metadata": {},
   "outputs": [
    {
     "name": "stdout",
     "output_type": "stream",
     "text": [
      "People\n",
      "Faces of Man\n",
      "Faces of Women\n",
      "kid\n"
     ]
    }
   ],
   "source": [
    "no_mask_words = [\"People\",\"Faces of Man\", \"Faces of Women\", \"kid\"]\n",
    "for word in no_mask_words:\n",
    "    print(word)"
   ]
  },
  {
   "cell_type": "code",
   "execution_count": 8,
   "id": "f5feb66d",
   "metadata": {},
   "outputs": [
    {
     "name": "stderr",
     "output_type": "stream",
     "text": [
      "[                                                                        ]   0%\r"
     ]
    },
    {
     "name": "stdout",
     "output_type": "stream",
     "text": [
      "People in facemasks\n"
     ]
    },
    {
     "name": "stderr",
     "output_type": "stream",
     "text": [
      "[========================================================================] 100%\n",
      "[                                                                        ]   0%\r"
     ]
    },
    {
     "name": "stdout",
     "output_type": "stream",
     "text": [
      "Facemasks\n"
     ]
    },
    {
     "name": "stderr",
     "output_type": "stream",
     "text": [
      "[========================================================================] 100%\n",
      "[                                                                        ]   0%\r"
     ]
    },
    {
     "name": "stdout",
     "output_type": "stream",
     "text": [
      "covid facemask\n"
     ]
    },
    {
     "name": "stderr",
     "output_type": "stream",
     "text": [
      "[========================================================================] 100%\n",
      "[                                                                        ]   0%\r"
     ]
    },
    {
     "name": "stdout",
     "output_type": "stream",
     "text": [
      "surgical masks\n"
     ]
    },
    {
     "name": "stderr",
     "output_type": "stream",
     "text": [
      "[========================================================================] 100%\n",
      "[                                                                        ]   0%\r"
     ]
    },
    {
     "name": "stdout",
     "output_type": "stream",
     "text": [
      "face covering mask\n"
     ]
    },
    {
     "name": "stderr",
     "output_type": "stream",
     "text": [
      "[========================================================================] 100%\n",
      "[                                                                        ]   0%\r"
     ]
    },
    {
     "name": "stdout",
     "output_type": "stream",
     "text": [
      "women with face mask\n"
     ]
    },
    {
     "name": "stderr",
     "output_type": "stream",
     "text": [
      "[========================================================================] 100%\n",
      "[                                                                        ]   0%\r"
     ]
    },
    {
     "name": "stdout",
     "output_type": "stream",
     "text": [
      "kids in face mask\n"
     ]
    },
    {
     "name": "stderr",
     "output_type": "stream",
     "text": [
      "[========================================================================] 100%\n",
      "[                                                                        ]   0%\r"
     ]
    },
    {
     "name": "stdout",
     "output_type": "stream",
     "text": [
      "facial mask covid\n"
     ]
    },
    {
     "name": "stderr",
     "output_type": "stream",
     "text": [
      "[========================================================================] 100%\n",
      "[                                                                        ]   0%\r"
     ]
    },
    {
     "name": "stdout",
     "output_type": "stream",
     "text": [
      "youth in face mask\n"
     ]
    },
    {
     "name": "stderr",
     "output_type": "stream",
     "text": [
      "[========================================================================] 100%\n",
      "[                                                                        ]   0%\r"
     ]
    },
    {
     "name": "stdout",
     "output_type": "stream",
     "text": [
      "Cotton Breathable Face Masks\n"
     ]
    },
    {
     "name": "stderr",
     "output_type": "stream",
     "text": [
      "[========================================================================] 100%\n"
     ]
    }
   ],
   "source": [
    "response = simp.simple_image_download\n",
    "\n",
    "# grab images for masks\n",
    "for mWord in mask_words: \n",
    "    print(mWord)\n",
    "    paths = response().download(mWord, 25)\n",
    "    \n",
    "#     sys.stdout = orig_stdout\n",
    "#     print(orig_stdout)\n",
    "#     f.close()"
   ]
  },
  {
   "cell_type": "code",
   "execution_count": 10,
   "id": "fc5a696d",
   "metadata": {},
   "outputs": [
    {
     "name": "stderr",
     "output_type": "stream",
     "text": [
      "[                                                                        ]   0%\r"
     ]
    },
    {
     "name": "stdout",
     "output_type": "stream",
     "text": [
      "People\n"
     ]
    },
    {
     "name": "stderr",
     "output_type": "stream",
     "text": [
      "[========================================================================] 100%\n",
      "[                                                                        ]   0%\r"
     ]
    },
    {
     "name": "stdout",
     "output_type": "stream",
     "text": [
      "Faces of Man\n"
     ]
    },
    {
     "name": "stderr",
     "output_type": "stream",
     "text": [
      "[========================================================================] 100%\n",
      "[                                                                        ]   0%\r"
     ]
    },
    {
     "name": "stdout",
     "output_type": "stream",
     "text": [
      "Faces of Women\n"
     ]
    },
    {
     "name": "stderr",
     "output_type": "stream",
     "text": [
      "[========================================================================] 100%\n",
      "[                                                                        ]   0%\r"
     ]
    },
    {
     "name": "stdout",
     "output_type": "stream",
     "text": [
      "kid\n"
     ]
    },
    {
     "name": "stderr",
     "output_type": "stream",
     "text": [
      "[========================================================================] 100%\n"
     ]
    }
   ],
   "source": [
    "#grab images for no masks\n",
    "for word in no_mask_words:\n",
    "    print(word)\n",
    "    paths = response().download(word, 25)\n",
    "#     sys.stdout = orig_stdout\n",
    "#     f.close()"
   ]
  },
  {
   "cell_type": "code",
   "execution_count": null,
   "id": "f9724b22",
   "metadata": {},
   "outputs": [],
   "source": []
  }
 ],
 "metadata": {
  "kernelspec": {
   "display_name": "Python 3",
   "language": "python",
   "name": "python3"
  },
  "language_info": {
   "codemirror_mode": {
    "name": "ipython",
    "version": 3
   },
   "file_extension": ".py",
   "mimetype": "text/x-python",
   "name": "python",
   "nbconvert_exporter": "python",
   "pygments_lexer": "ipython3",
   "version": "3.8.8"
  }
 },
 "nbformat": 4,
 "nbformat_minor": 5
}
